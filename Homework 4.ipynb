{
 "cells": [
  {
   "cell_type": "markdown",
   "id": "511ba0cc",
   "metadata": {},
   "source": [
    "# CS009A Homework 4 (07/27/2023)\n",
    "**Wilton Phung**"
   ]
  },
  {
   "cell_type": "markdown",
   "id": "6d9e9f63",
   "metadata": {},
   "source": [
    "## Introduction to the Dataset\n",
    "**Links to Dataset**\n",
    "\n",
    "Website data was sourced: https://www.basketball-reference.com/awards/mvp.html#mvp_NBA\n",
    "\n",
    "Data csv file: http://localhost:8889/lab/tree/Homework%204/Last50MVPs.csv\n",
    "\n",
    "**Description of Dataset** \n",
    "\n",
    "This dataset is statistics of the NBA MVPs, the statistics include season averages per game, shooting percentages, and winshares. \n"
   ]
  },
  {
   "cell_type": "markdown",
   "id": "f2144255",
   "metadata": {},
   "source": [
    "## Section 0: \n",
    "**Overview:** \n",
    "\n",
    "Essentially in this first section, I am sourcing the dataset from the website \"www.basketball-reference.com\", so credit goes to the website for all the data used in this assignment. \n",
    "\n",
    "The method I used to source this dataset was from a YouTube tutorial video: \"Web Scraping NBA Stats With Python: Data Project [Part 1 of 3]\" by Dataquest. I do want to note that I although I am following the code to extract the data from the website, my data set is a bit different and what I am using my data for is different. In the video he explains that he is going to use the data to create a machine learning model that can hopefully predict the MVP for the next season, which doesn't fit this assignment. What I am doing with the code is just analyzing it through 4 questions as per the outline of this homework assignment. Please let me know if you have any questions or concerns in regards to how I completed this assignment or my use of outside sources.\n",
    "\n",
    "**Link to video**: https://www.youtube.com/watch?v=JGQGd-oa0l4&t=911s&ab_channel=Dataquest\n",
    "\n",
    "\n",
    "**Link to video's GitHub Code:** https://github.com/dataquestio/project-walkthroughs/blob/master/mvp/web_scraping.ipynb"
   ]
  },
  {
   "cell_type": "markdown",
   "id": "105e70a0",
   "metadata": {},
   "source": [
    "# Section 1:"
   ]
  },
  {
   "cell_type": "code",
   "execution_count": 1,
   "id": "6c577f7a",
   "metadata": {},
   "outputs": [],
   "source": [
    "import requests \n",
    "\n",
    "url = \"https://www.basketball-reference.com/awards/mvp.html#mvp_NBA\"\n",
    "data = requests.get(url)\n",
    "with open(\"MostValublePlayers.html\", \"w\", encoding=\"utf-8\") as fHandle:\n",
    "    fHandle.write(data.text)"
   ]
  },
  {
   "cell_type": "markdown",
   "id": "e253b105",
   "metadata": {},
   "source": [
    "Essentially I have the url of the website and in order to get the table of data that I want, I am sending the website a request and then downloading its response (which is the html webpage) and this response is being opened onto a file named \"MostValublePlayers.html\" in \"w+\" which allows me to write and if the file exists, override so I am left with a copy of the website in the file. \n",
    "\n",
    "Note the ' encoding=\"utf-8\" ' is a piece I had to add after getting an error when opening the file so I found the troubleshoot on stackoverflow, although full disclosure I have no clue what this does.\n",
    "\n",
    "Here is the link: https://stackoverflow.com/questions/27092833/unicodeencodeerror-charmap-codec-cant-encode-characters"
   ]
  },
  {
   "cell_type": "code",
   "execution_count": 2,
   "id": "c5c706e8",
   "metadata": {},
   "outputs": [],
   "source": [
    "from bs4 import BeautifulSoup\n",
    "\n",
    "with open(\"MostValublePlayers.html\", encoding=\"utf-8\") as fHandle:\n",
    "    page = fHandle.read()\n",
    "\n",
    "soup = BeautifulSoup(page, 'html.parser')\n",
    "soup.find('tr', class_=\"over_header\").decompose()\n",
    "mvp_table = soup.find_all(id=\"div_mvp_NBA\")"
   ]
  },
  {
   "cell_type": "markdown",
   "id": "a3842a04",
   "metadata": {},
   "source": [
    "So I am importing BeautifulSoup and then opening the file to read it, then I initialize BeautifulSoup to parse the page which allows me to extract the data that I want, in this case it's the \"NBA Winners\" MVP table. I am removing the \"over_header\" because it is an extra row on the top of the table and labels \"Per Game\", \"Shooting\", and \"Advanced\" and I don't need since it doesn't label any important information and when I import it into pandas, it won't have any unnecessary clutter since it would be an extra row. BeautifulSoup then parses the page and extracts the element with the id = \"div_mvp_NBA\" which is the \"NBA Winners\" MVP table and this is the table with the data I want to work with. I am then saving the dataset table in a variable \"mvp_table\"."
   ]
  },
  {
   "cell_type": "code",
   "execution_count": 3,
   "id": "40264f31",
   "metadata": {},
   "outputs": [
    {
     "data": {
      "text/html": [
       "<div>\n",
       "<style scoped>\n",
       "    .dataframe tbody tr th:only-of-type {\n",
       "        vertical-align: middle;\n",
       "    }\n",
       "\n",
       "    .dataframe tbody tr th {\n",
       "        vertical-align: top;\n",
       "    }\n",
       "\n",
       "    .dataframe thead th {\n",
       "        text-align: right;\n",
       "    }\n",
       "</style>\n",
       "<table border=\"1\" class=\"dataframe\">\n",
       "  <thead>\n",
       "    <tr style=\"text-align: right;\">\n",
       "      <th></th>\n",
       "      <th>Season</th>\n",
       "      <th>Lg</th>\n",
       "      <th>Player</th>\n",
       "      <th>Voting</th>\n",
       "      <th>Age</th>\n",
       "      <th>Tm</th>\n",
       "      <th>G</th>\n",
       "      <th>MP</th>\n",
       "      <th>PTS</th>\n",
       "      <th>TRB</th>\n",
       "      <th>AST</th>\n",
       "      <th>STL</th>\n",
       "      <th>BLK</th>\n",
       "      <th>FG%</th>\n",
       "      <th>3P%</th>\n",
       "      <th>FT%</th>\n",
       "      <th>WS</th>\n",
       "      <th>WS/48</th>\n",
       "    </tr>\n",
       "  </thead>\n",
       "  <tbody>\n",
       "    <tr>\n",
       "      <th>0</th>\n",
       "      <td>2022-23</td>\n",
       "      <td>NBA</td>\n",
       "      <td>Joel Embiid</td>\n",
       "      <td>(V)</td>\n",
       "      <td>28</td>\n",
       "      <td>PHI</td>\n",
       "      <td>66</td>\n",
       "      <td>34.6</td>\n",
       "      <td>33.1</td>\n",
       "      <td>10.2</td>\n",
       "      <td>4.2</td>\n",
       "      <td>1.0</td>\n",
       "      <td>1.7</td>\n",
       "      <td>0.548</td>\n",
       "      <td>0.330</td>\n",
       "      <td>0.857</td>\n",
       "      <td>12.3</td>\n",
       "      <td>0.259</td>\n",
       "    </tr>\n",
       "    <tr>\n",
       "      <th>1</th>\n",
       "      <td>2021-22</td>\n",
       "      <td>NBA</td>\n",
       "      <td>Nikola Jokić</td>\n",
       "      <td>(V)</td>\n",
       "      <td>26</td>\n",
       "      <td>DEN</td>\n",
       "      <td>74</td>\n",
       "      <td>33.5</td>\n",
       "      <td>27.1</td>\n",
       "      <td>13.8</td>\n",
       "      <td>7.9</td>\n",
       "      <td>1.5</td>\n",
       "      <td>0.9</td>\n",
       "      <td>0.583</td>\n",
       "      <td>0.337</td>\n",
       "      <td>0.810</td>\n",
       "      <td>15.2</td>\n",
       "      <td>0.296</td>\n",
       "    </tr>\n",
       "    <tr>\n",
       "      <th>2</th>\n",
       "      <td>2020-21</td>\n",
       "      <td>NBA</td>\n",
       "      <td>Nikola Jokić</td>\n",
       "      <td>(V)</td>\n",
       "      <td>25</td>\n",
       "      <td>DEN</td>\n",
       "      <td>72</td>\n",
       "      <td>34.6</td>\n",
       "      <td>26.4</td>\n",
       "      <td>10.8</td>\n",
       "      <td>8.3</td>\n",
       "      <td>1.3</td>\n",
       "      <td>0.7</td>\n",
       "      <td>0.566</td>\n",
       "      <td>0.388</td>\n",
       "      <td>0.868</td>\n",
       "      <td>15.6</td>\n",
       "      <td>0.301</td>\n",
       "    </tr>\n",
       "    <tr>\n",
       "      <th>3</th>\n",
       "      <td>2019-20</td>\n",
       "      <td>NBA</td>\n",
       "      <td>Giannis Antetokounmpo</td>\n",
       "      <td>(V)</td>\n",
       "      <td>25</td>\n",
       "      <td>MIL</td>\n",
       "      <td>63</td>\n",
       "      <td>30.4</td>\n",
       "      <td>29.5</td>\n",
       "      <td>13.6</td>\n",
       "      <td>5.6</td>\n",
       "      <td>1.0</td>\n",
       "      <td>1.0</td>\n",
       "      <td>0.553</td>\n",
       "      <td>0.304</td>\n",
       "      <td>0.633</td>\n",
       "      <td>11.1</td>\n",
       "      <td>0.279</td>\n",
       "    </tr>\n",
       "    <tr>\n",
       "      <th>4</th>\n",
       "      <td>2018-19</td>\n",
       "      <td>NBA</td>\n",
       "      <td>Giannis Antetokounmpo</td>\n",
       "      <td>(V)</td>\n",
       "      <td>24</td>\n",
       "      <td>MIL</td>\n",
       "      <td>72</td>\n",
       "      <td>32.8</td>\n",
       "      <td>27.7</td>\n",
       "      <td>12.5</td>\n",
       "      <td>5.9</td>\n",
       "      <td>1.3</td>\n",
       "      <td>1.5</td>\n",
       "      <td>0.578</td>\n",
       "      <td>0.256</td>\n",
       "      <td>0.729</td>\n",
       "      <td>14.4</td>\n",
       "      <td>0.292</td>\n",
       "    </tr>\n",
       "    <tr>\n",
       "      <th>...</th>\n",
       "      <td>...</td>\n",
       "      <td>...</td>\n",
       "      <td>...</td>\n",
       "      <td>...</td>\n",
       "      <td>...</td>\n",
       "      <td>...</td>\n",
       "      <td>...</td>\n",
       "      <td>...</td>\n",
       "      <td>...</td>\n",
       "      <td>...</td>\n",
       "      <td>...</td>\n",
       "      <td>...</td>\n",
       "      <td>...</td>\n",
       "      <td>...</td>\n",
       "      <td>...</td>\n",
       "      <td>...</td>\n",
       "      <td>...</td>\n",
       "      <td>...</td>\n",
       "    </tr>\n",
       "    <tr>\n",
       "      <th>63</th>\n",
       "      <td>1959-60</td>\n",
       "      <td>NBA</td>\n",
       "      <td>Wilt Chamberlain</td>\n",
       "      <td>(V)</td>\n",
       "      <td>23</td>\n",
       "      <td>PHW</td>\n",
       "      <td>72</td>\n",
       "      <td>46.4</td>\n",
       "      <td>37.6</td>\n",
       "      <td>27.0</td>\n",
       "      <td>2.3</td>\n",
       "      <td>NaN</td>\n",
       "      <td>NaN</td>\n",
       "      <td>0.461</td>\n",
       "      <td>NaN</td>\n",
       "      <td>0.582</td>\n",
       "      <td>17.0</td>\n",
       "      <td>0.245</td>\n",
       "    </tr>\n",
       "    <tr>\n",
       "      <th>64</th>\n",
       "      <td>1958-59</td>\n",
       "      <td>NBA</td>\n",
       "      <td>Bob Pettit</td>\n",
       "      <td>(V)</td>\n",
       "      <td>26</td>\n",
       "      <td>STL</td>\n",
       "      <td>72</td>\n",
       "      <td>39.9</td>\n",
       "      <td>29.2</td>\n",
       "      <td>16.4</td>\n",
       "      <td>3.1</td>\n",
       "      <td>NaN</td>\n",
       "      <td>NaN</td>\n",
       "      <td>0.438</td>\n",
       "      <td>NaN</td>\n",
       "      <td>0.759</td>\n",
       "      <td>14.8</td>\n",
       "      <td>0.246</td>\n",
       "    </tr>\n",
       "    <tr>\n",
       "      <th>65</th>\n",
       "      <td>1957-58</td>\n",
       "      <td>NBA</td>\n",
       "      <td>Bill Russell</td>\n",
       "      <td>(V)</td>\n",
       "      <td>23</td>\n",
       "      <td>BOS</td>\n",
       "      <td>69</td>\n",
       "      <td>38.3</td>\n",
       "      <td>16.6</td>\n",
       "      <td>22.7</td>\n",
       "      <td>2.9</td>\n",
       "      <td>NaN</td>\n",
       "      <td>NaN</td>\n",
       "      <td>0.442</td>\n",
       "      <td>NaN</td>\n",
       "      <td>0.519</td>\n",
       "      <td>11.3</td>\n",
       "      <td>0.206</td>\n",
       "    </tr>\n",
       "    <tr>\n",
       "      <th>66</th>\n",
       "      <td>1956-57</td>\n",
       "      <td>NBA</td>\n",
       "      <td>Bob Cousy</td>\n",
       "      <td>(V)</td>\n",
       "      <td>28</td>\n",
       "      <td>BOS</td>\n",
       "      <td>64</td>\n",
       "      <td>36.9</td>\n",
       "      <td>20.6</td>\n",
       "      <td>4.8</td>\n",
       "      <td>7.5</td>\n",
       "      <td>NaN</td>\n",
       "      <td>NaN</td>\n",
       "      <td>0.378</td>\n",
       "      <td>NaN</td>\n",
       "      <td>0.821</td>\n",
       "      <td>8.8</td>\n",
       "      <td>0.178</td>\n",
       "    </tr>\n",
       "    <tr>\n",
       "      <th>67</th>\n",
       "      <td>1955-56</td>\n",
       "      <td>NBA</td>\n",
       "      <td>Bob Pettit</td>\n",
       "      <td>(V)</td>\n",
       "      <td>23</td>\n",
       "      <td>STL</td>\n",
       "      <td>72</td>\n",
       "      <td>38.8</td>\n",
       "      <td>25.7</td>\n",
       "      <td>16.2</td>\n",
       "      <td>2.6</td>\n",
       "      <td>NaN</td>\n",
       "      <td>NaN</td>\n",
       "      <td>0.429</td>\n",
       "      <td>NaN</td>\n",
       "      <td>0.736</td>\n",
       "      <td>13.8</td>\n",
       "      <td>0.236</td>\n",
       "    </tr>\n",
       "  </tbody>\n",
       "</table>\n",
       "<p>68 rows × 18 columns</p>\n",
       "</div>"
      ],
      "text/plain": [
       "     Season   Lg                 Player Voting  Age   Tm   G    MP   PTS  \\\n",
       "0   2022-23  NBA            Joel Embiid    (V)   28  PHI  66  34.6  33.1   \n",
       "1   2021-22  NBA           Nikola Jokić    (V)   26  DEN  74  33.5  27.1   \n",
       "2   2020-21  NBA           Nikola Jokić    (V)   25  DEN  72  34.6  26.4   \n",
       "3   2019-20  NBA  Giannis Antetokounmpo    (V)   25  MIL  63  30.4  29.5   \n",
       "4   2018-19  NBA  Giannis Antetokounmpo    (V)   24  MIL  72  32.8  27.7   \n",
       "..      ...  ...                    ...    ...  ...  ...  ..   ...   ...   \n",
       "63  1959-60  NBA       Wilt Chamberlain    (V)   23  PHW  72  46.4  37.6   \n",
       "64  1958-59  NBA             Bob Pettit    (V)   26  STL  72  39.9  29.2   \n",
       "65  1957-58  NBA           Bill Russell    (V)   23  BOS  69  38.3  16.6   \n",
       "66  1956-57  NBA              Bob Cousy    (V)   28  BOS  64  36.9  20.6   \n",
       "67  1955-56  NBA             Bob Pettit    (V)   23  STL  72  38.8  25.7   \n",
       "\n",
       "     TRB  AST  STL  BLK    FG%    3P%    FT%    WS  WS/48  \n",
       "0   10.2  4.2  1.0  1.7  0.548  0.330  0.857  12.3  0.259  \n",
       "1   13.8  7.9  1.5  0.9  0.583  0.337  0.810  15.2  0.296  \n",
       "2   10.8  8.3  1.3  0.7  0.566  0.388  0.868  15.6  0.301  \n",
       "3   13.6  5.6  1.0  1.0  0.553  0.304  0.633  11.1  0.279  \n",
       "4   12.5  5.9  1.3  1.5  0.578  0.256  0.729  14.4  0.292  \n",
       "..   ...  ...  ...  ...    ...    ...    ...   ...    ...  \n",
       "63  27.0  2.3  NaN  NaN  0.461    NaN  0.582  17.0  0.245  \n",
       "64  16.4  3.1  NaN  NaN  0.438    NaN  0.759  14.8  0.246  \n",
       "65  22.7  2.9  NaN  NaN  0.442    NaN  0.519  11.3  0.206  \n",
       "66   4.8  7.5  NaN  NaN  0.378    NaN  0.821   8.8  0.178  \n",
       "67  16.2  2.6  NaN  NaN  0.429    NaN  0.736  13.8  0.236  \n",
       "\n",
       "[68 rows x 18 columns]"
      ]
     },
     "execution_count": 3,
     "metadata": {},
     "output_type": "execute_result"
    }
   ],
   "source": [
    "import pandas as pd\n",
    "\n",
    "mvps = pd.read_html(str(mvp_table))[0]\n",
    "mvps"
   ]
  },
  {
   "cell_type": "markdown",
   "id": "12995876",
   "metadata": {},
   "source": [
    "I am then importing pandas and using it to read the \"mvp_table\" which is the dataset table from the .html file I have of the website. I'm using pandas to read the .html table after I declare the table as a string in order for pandas to be able to read it since by default it is not a string. Then I have only taking the first element because I actually get a list of dataframes where the first index is the table that I want to use. So now I have a dataframe I can work with. "
   ]
  },
  {
   "cell_type": "code",
   "execution_count": 4,
   "id": "3600505d",
   "metadata": {},
   "outputs": [],
   "source": [
    "mvps.head(50).to_csv(\"Last50MVPs.csv\")"
   ]
  },
  {
   "cell_type": "markdown",
   "id": "65d682c1",
   "metadata": {},
   "source": [
    "This turns the dataframe into a csv, however I am only taking the latest 50 MVPs which is 50 from the top because if you look at the dataframe above, the bottom players have some \"NaN\" in some of their stats columns because those stats were either not tracked or recorded (steals and blocks weren't recorded until the 1973-74 season), or in the case of the 3P%, the 3-point-line had not yet been introduced (introduced in the 1979-1980 season). So I am only taking the latest 50 of these entries out of the 68 total, because this corresponds with the 1973-74 season, when steals and blocks were being recorded. "
   ]
  },
  {
   "cell_type": "markdown",
   "id": "f90e05ea",
   "metadata": {},
   "source": [
    "# Section 2: \n",
    "**Overview:**\n",
    "\n",
    "This section will be going over the actual homework assignment and answering the 4 following questions by analyzing the acquired dataset. Also note for the following section, my outputs will be in the form of an f-string that also helps describe the data and its significance. "
   ]
  },
  {
   "cell_type": "markdown",
   "id": "50c60dca",
   "metadata": {},
   "source": [
    "## Question 1: \n",
    "**What is the mean age of the last winners in the last 50 seasons? What is the standard deviation of the ages? Who were the youngest and oldest winners and what were their ages?**"
   ]
  },
  {
   "cell_type": "code",
   "execution_count": 5,
   "id": "af7ddc14",
   "metadata": {
    "scrolled": true
   },
   "outputs": [
    {
     "name": "stdout",
     "output_type": "stream",
     "text": [
      "The average age of MVPs is: 27.54\n",
      "The standard deviation of the ages is: 2.83\n",
      "The youngest of the last 50 MVPs was Derrick Rose at 22 years old.\n",
      "The oldest of the last 50 MVPs was Karl Malone at 35 years old.\n",
      "Fun fact: As of the 2023 season Derrick Rose and Karl Malone are actually the respective youngest and oldest MVPs all-time!\n",
      "(Remember this data set is only for the latest 50 MVPs out of the total 68 so far.)\n"
     ]
    }
   ],
   "source": [
    "mvpdf = pd.read_csv(\"Last50MVPs.csv\")\n",
    "\n",
    "mvpdf.describe()\n",
    "\n",
    "mean_age = mvpdf.describe().loc['mean', \"Age\"]\n",
    "std_dev_age = mvpdf.describe().loc['std', \"Age\"]\n",
    "youngest_age = mvpdf[\"Age\"].min()\n",
    "oldest_age = mvpdf[\"Age\"].max()\n",
    "\n",
    "age_as_list1 = mvpdf.index[mvpdf[\"Age\"] == youngest_age].tolist()\n",
    "for e in age_as_list1:\n",
    "    age = e \n",
    "youngest_player = mvpdf.loc[age, \"Player\"]\n",
    "\n",
    "age_as_list2 = mvpdf.index[mvpdf[\"Age\"] == oldest_age].tolist()\n",
    "for e in age_as_list2:\n",
    "    age = e\n",
    "oldest_player = mvpdf.loc[age,\"Player\"]\n",
    "\n",
    "print(f'The average age of MVPs is: {mean_age:.2f}')\n",
    "print(f'The standard deviation of the ages is: {std_dev_age:.2f}')\n",
    "print(f'The youngest of the last 50 MVPs was {youngest_player} at {youngest_age} years old.')\n",
    "print(f'The oldest of the last 50 MVPs was {oldest_player} at {oldest_age} years old.')\n",
    "print(f'Fun fact: As of the 2023 season {youngest_player} and {oldest_player} are actually the respective youngest and oldest MVPs all-time!\\n(Remember this data set is only for the latest 50 MVPs out of the total 68 so far.)')"
   ]
  },
  {
   "cell_type": "markdown",
   "id": "3ccfcc74",
   "metadata": {},
   "source": [
    "Alright so in order to analyze my data, I have to read the csv file with the data in to pandas and I set a variable equal to the dataframe to help with writing code that is easily readable. Then I used the .describe() method in pandas to do the math for me (I will include what the .describe() method outputs below). I then used the .describe() method to get the mean and standard deviation then using the .loc attribute I got the values of these and set a variable to equal the value of the cell and then I use the variable in an f-string to output my data in order to have code that is easily readable. For the youngest and oldest data, I used the .min() and .max() method on the dataframe's \"Age\" column to get the youngest and oldest age. Then after consulting google, I found a way to index the row that correspond's to the cell which is just by using dataframe.index[dataframe[\"column\"] == value], and to my understanding, this returns a panda datatype similar to an array since a dataframe is a 2D array so in order for me to be able to access the value or in other words just the number of the row, I used .tolist() which turned the panda datatype into a list with one element which is the value of the row I want. Then in order to access the value, since the list only has one element, I used a for-loop and set a variable, \"age\", equal to the value of the element. Then I used .loc with the \"age\" variable and \"Player\" column to find the player corresponding with the age. I feel like the output explains the data relatively well so there is not much of a need for me to go over it. \n",
    "\n",
    "Here's the link to the google consult: https://sparkbyexamples.com/python/pandas-get-index-from-dataframe/?expand_article=1"
   ]
  },
  {
   "cell_type": "code",
   "execution_count": 6,
   "id": "93281116",
   "metadata": {},
   "outputs": [
    {
     "name": "stdout",
     "output_type": "stream",
     "text": [
      "<class 'pandas.core.indexes.numeric.Int64Index'>\n",
      "Int64Index([12], dtype='int64')\n",
      "[12]\n",
      "12\n",
      "<class 'int'>\n"
     ]
    }
   ],
   "source": [
    "print(type(mvpdf.index[mvpdf[\"Age\"] == youngest_age]))\n",
    "print(mvpdf.index[mvpdf[\"Age\"] == youngest_age])\n",
    "print(mvpdf.index[mvpdf[\"Age\"] == youngest_age].tolist())\n",
    "\n",
    "list = mvpdf.index[mvpdf[\"Age\"] == youngest_age].tolist()\n",
    "\n",
    "for i in list:\n",
    "    age = i\n",
    "print(i)\n",
    "print(type(i))"
   ]
  },
  {
   "cell_type": "markdown",
   "id": "ada8404c",
   "metadata": {},
   "source": [
    "So here I included what the .index and .tolist() functions do just for reference and also what my for-loop does in the above question. So my goal in using the .index function is to find the index of the \"youngest_age\" (the minimum value in the \"Age\" column of the MVP data table) and then use the value of the index (12) in the .loc function. I want to have something like dataframe.loc[index, \"Player\"] to find the player corresponding to the age, based off of the age. However, because the .index function returns a panda datatype, not an integer, I can't directly use it in the .loc function because I get an error (this is what I tried originally but it did not work) since the .loc function expects the index to be an integer. So, I have to manipulate it in such a way that I can access the integer value of the index. To do so, I chose to use the .tolist() function to turn the panda datatype into a list, [12] which has one element and then accessed the value of the element through a for-loop and set it equal to the \"age\" variable and it's datatype is now an integer which I can use in the .loc function. Hopefully this explains what I did a bit more clearly."
   ]
  },
  {
   "cell_type": "code",
   "execution_count": 7,
   "id": "e3e2352b",
   "metadata": {},
   "outputs": [
    {
     "data": {
      "text/html": [
       "<div>\n",
       "<style scoped>\n",
       "    .dataframe tbody tr th:only-of-type {\n",
       "        vertical-align: middle;\n",
       "    }\n",
       "\n",
       "    .dataframe tbody tr th {\n",
       "        vertical-align: top;\n",
       "    }\n",
       "\n",
       "    .dataframe thead th {\n",
       "        text-align: right;\n",
       "    }\n",
       "</style>\n",
       "<table border=\"1\" class=\"dataframe\">\n",
       "  <thead>\n",
       "    <tr style=\"text-align: right;\">\n",
       "      <th></th>\n",
       "      <th>Unnamed: 0</th>\n",
       "      <th>Age</th>\n",
       "      <th>G</th>\n",
       "      <th>MP</th>\n",
       "      <th>PTS</th>\n",
       "      <th>TRB</th>\n",
       "      <th>AST</th>\n",
       "      <th>STL</th>\n",
       "      <th>BLK</th>\n",
       "      <th>FG%</th>\n",
       "      <th>3P%</th>\n",
       "      <th>FT%</th>\n",
       "      <th>WS</th>\n",
       "      <th>WS/48</th>\n",
       "    </tr>\n",
       "  </thead>\n",
       "  <tbody>\n",
       "    <tr>\n",
       "      <th>count</th>\n",
       "      <td>50.00000</td>\n",
       "      <td>50.000000</td>\n",
       "      <td>50.000000</td>\n",
       "      <td>50.00000</td>\n",
       "      <td>50.000000</td>\n",
       "      <td>50.000000</td>\n",
       "      <td>50.000000</td>\n",
       "      <td>50.000000</td>\n",
       "      <td>50.000000</td>\n",
       "      <td>50.000000</td>\n",
       "      <td>44.000000</td>\n",
       "      <td>50.000000</td>\n",
       "      <td>50.000000</td>\n",
       "      <td>50.000000</td>\n",
       "    </tr>\n",
       "    <tr>\n",
       "      <th>mean</th>\n",
       "      <td>24.50000</td>\n",
       "      <td>27.540000</td>\n",
       "      <td>77.360000</td>\n",
       "      <td>37.58800</td>\n",
       "      <td>26.972000</td>\n",
       "      <td>9.654000</td>\n",
       "      <td>5.930000</td>\n",
       "      <td>1.512000</td>\n",
       "      <td>1.360000</td>\n",
       "      <td>0.515580</td>\n",
       "      <td>0.286659</td>\n",
       "      <td>0.802280</td>\n",
       "      <td>15.722000</td>\n",
       "      <td>0.259740</td>\n",
       "    </tr>\n",
       "    <tr>\n",
       "      <th>std</th>\n",
       "      <td>14.57738</td>\n",
       "      <td>2.829942</td>\n",
       "      <td>6.965689</td>\n",
       "      <td>2.83496</td>\n",
       "      <td>3.877462</td>\n",
       "      <td>3.721488</td>\n",
       "      <td>2.721963</td>\n",
       "      <td>0.545722</td>\n",
       "      <td>1.074947</td>\n",
       "      <td>0.038856</td>\n",
       "      <td>0.139693</td>\n",
       "      <td>0.079626</td>\n",
       "      <td>2.815648</td>\n",
       "      <td>0.036803</td>\n",
       "    </tr>\n",
       "    <tr>\n",
       "      <th>min</th>\n",
       "      <td>0.00000</td>\n",
       "      <td>22.000000</td>\n",
       "      <td>49.000000</td>\n",
       "      <td>30.40000</td>\n",
       "      <td>15.500000</td>\n",
       "      <td>3.300000</td>\n",
       "      <td>1.300000</td>\n",
       "      <td>0.500000</td>\n",
       "      <td>0.100000</td>\n",
       "      <td>0.420000</td>\n",
       "      <td>0.000000</td>\n",
       "      <td>0.524000</td>\n",
       "      <td>8.400000</td>\n",
       "      <td>0.190000</td>\n",
       "    </tr>\n",
       "    <tr>\n",
       "      <th>25%</th>\n",
       "      <td>12.25000</td>\n",
       "      <td>25.250000</td>\n",
       "      <td>76.000000</td>\n",
       "      <td>35.60000</td>\n",
       "      <td>24.600000</td>\n",
       "      <td>6.450000</td>\n",
       "      <td>4.125000</td>\n",
       "      <td>1.025000</td>\n",
       "      <td>0.600000</td>\n",
       "      <td>0.496750</td>\n",
       "      <td>0.244750</td>\n",
       "      <td>0.761250</td>\n",
       "      <td>14.150000</td>\n",
       "      <td>0.232750</td>\n",
       "    </tr>\n",
       "    <tr>\n",
       "      <th>50%</th>\n",
       "      <td>24.50000</td>\n",
       "      <td>27.000000</td>\n",
       "      <td>80.000000</td>\n",
       "      <td>37.65000</td>\n",
       "      <td>27.100000</td>\n",
       "      <td>9.850000</td>\n",
       "      <td>5.450000</td>\n",
       "      <td>1.550000</td>\n",
       "      <td>0.950000</td>\n",
       "      <td>0.516000</td>\n",
       "      <td>0.325000</td>\n",
       "      <td>0.802000</td>\n",
       "      <td>15.750000</td>\n",
       "      <td>0.261000</td>\n",
       "    </tr>\n",
       "    <tr>\n",
       "      <th>75%</th>\n",
       "      <td>36.75000</td>\n",
       "      <td>29.000000</td>\n",
       "      <td>82.000000</td>\n",
       "      <td>39.22500</td>\n",
       "      <td>29.700000</td>\n",
       "      <td>12.850000</td>\n",
       "      <td>7.275000</td>\n",
       "      <td>1.800000</td>\n",
       "      <td>1.950000</td>\n",
       "      <td>0.538000</td>\n",
       "      <td>0.388750</td>\n",
       "      <td>0.858000</td>\n",
       "      <td>17.800000</td>\n",
       "      <td>0.288750</td>\n",
       "    </tr>\n",
       "    <tr>\n",
       "      <th>max</th>\n",
       "      <td>49.00000</td>\n",
       "      <td>35.000000</td>\n",
       "      <td>82.000000</td>\n",
       "      <td>43.80000</td>\n",
       "      <td>35.000000</td>\n",
       "      <td>17.600000</td>\n",
       "      <td>12.800000</td>\n",
       "      <td>3.200000</td>\n",
       "      <td>4.100000</td>\n",
       "      <td>0.604000</td>\n",
       "      <td>0.454000</td>\n",
       "      <td>0.921000</td>\n",
       "      <td>21.200000</td>\n",
       "      <td>0.322000</td>\n",
       "    </tr>\n",
       "  </tbody>\n",
       "</table>\n",
       "</div>"
      ],
      "text/plain": [
       "       Unnamed: 0        Age          G        MP        PTS        TRB  \\\n",
       "count    50.00000  50.000000  50.000000  50.00000  50.000000  50.000000   \n",
       "mean     24.50000  27.540000  77.360000  37.58800  26.972000   9.654000   \n",
       "std      14.57738   2.829942   6.965689   2.83496   3.877462   3.721488   \n",
       "min       0.00000  22.000000  49.000000  30.40000  15.500000   3.300000   \n",
       "25%      12.25000  25.250000  76.000000  35.60000  24.600000   6.450000   \n",
       "50%      24.50000  27.000000  80.000000  37.65000  27.100000   9.850000   \n",
       "75%      36.75000  29.000000  82.000000  39.22500  29.700000  12.850000   \n",
       "max      49.00000  35.000000  82.000000  43.80000  35.000000  17.600000   \n",
       "\n",
       "             AST        STL        BLK        FG%        3P%        FT%  \\\n",
       "count  50.000000  50.000000  50.000000  50.000000  44.000000  50.000000   \n",
       "mean    5.930000   1.512000   1.360000   0.515580   0.286659   0.802280   \n",
       "std     2.721963   0.545722   1.074947   0.038856   0.139693   0.079626   \n",
       "min     1.300000   0.500000   0.100000   0.420000   0.000000   0.524000   \n",
       "25%     4.125000   1.025000   0.600000   0.496750   0.244750   0.761250   \n",
       "50%     5.450000   1.550000   0.950000   0.516000   0.325000   0.802000   \n",
       "75%     7.275000   1.800000   1.950000   0.538000   0.388750   0.858000   \n",
       "max    12.800000   3.200000   4.100000   0.604000   0.454000   0.921000   \n",
       "\n",
       "              WS      WS/48  \n",
       "count  50.000000  50.000000  \n",
       "mean   15.722000   0.259740  \n",
       "std     2.815648   0.036803  \n",
       "min     8.400000   0.190000  \n",
       "25%    14.150000   0.232750  \n",
       "50%    15.750000   0.261000  \n",
       "75%    17.800000   0.288750  \n",
       "max    21.200000   0.322000  "
      ]
     },
     "execution_count": 7,
     "metadata": {},
     "output_type": "execute_result"
    }
   ],
   "source": [
    "mvpdf.describe()"
   ]
  },
  {
   "cell_type": "markdown",
   "id": "2637eda8",
   "metadata": {},
   "source": [
    "This is just a visualization of all the data I get through using the .describe() method."
   ]
  },
  {
   "cell_type": "markdown",
   "id": "ec900931",
   "metadata": {},
   "source": [
    "## Question 2: \n",
    "**Calculate and determine which player had the highest offensive output/contributions.**"
   ]
  },
  {
   "cell_type": "code",
   "execution_count": 8,
   "id": "5c5bad85",
   "metadata": {
    "scrolled": true
   },
   "outputs": [
    {
     "name": "stdout",
     "output_type": "stream",
     "text": [
      "The player with the highest offensive output and contributions was Russell Westbrook with a rating of 1.21.\n",
      "The player with the highest scoring output was Giannis Antetokounmpo with 0.97 points per minute.\n",
      "The player with the highest assist output was Magic Johnson with 0.34 assists per minute.\n",
      "\n",
      "For reference, the average offensive output and contributions rating is 0.88 the average scoring output is 0.72 points per minute, and the average assist ouput is 0.16 assists per minute.\n"
     ]
    }
   ],
   "source": [
    "points_per_minute = ( mvpdf[\"PTS\"] / mvpdf[\"MP\"] )\n",
    "maxptspmp = points_per_minute.max()\n",
    "\n",
    "assists_per_minute = ( mvpdf[\"AST\"] / mvpdf[\"MP\"] )\n",
    "maxastpmp = assists_per_minute.max()\n",
    "\n",
    "offensive_output = points_per_minute + assists_per_minute\n",
    "maxoffout = offensive_output.max()\n",
    "\n",
    "offensive_index = offensive_output.index[offensive_output == maxoffout].tolist()\n",
    "for a in offensive_index:\n",
    "    rowA = a \n",
    "player1 = mvpdf.loc[rowA,\"Player\"]\n",
    "\n",
    "points_index = points_per_minute.index[points_per_minute == maxptspmp].tolist()\n",
    "for b in points_index:\n",
    "    rowB = b\n",
    "player2 = mvpdf.loc[rowB,\"Player\"]\n",
    "\n",
    "assists_index = assists_per_minute.index[assists_per_minute == maxastpmp].tolist()\n",
    "for c in assists_index:\n",
    "    rowC = c \n",
    "player3 = mvpdf.loc[rowC,\"Player\"]\n",
    "    \n",
    "print(f\"The player with the highest offensive output and contributions was {player1} with a rating of {maxoffout:.2f}.\")\n",
    "print(f\"The player with the highest scoring output was {player2} with {maxptspmp:.2f} points per minute.\")\n",
    "print(f\"The player with the highest assist output was {player3} with {maxastpmp:.2f} assists per minute.\\n\")\n",
    "\n",
    "total = 0\n",
    "for d in offensive_output:\n",
    "    total += d \n",
    "avgoffout = total / len(offensive_output)\n",
    "\n",
    "total = 0\n",
    "for e in points_per_minute:\n",
    "    total += e \n",
    "avgptspmp = total / len(points_per_minute)\n",
    "\n",
    "total = 0\n",
    "for f in assists_per_minute:\n",
    "    total += f\n",
    "avgastpmp = total / len(assists_per_minute)\n",
    "\n",
    "print(f\"For reference, the average offensive output and contributions rating is {avgoffout:.2f} the average scoring output is {avgptspmp:.2f} points per minute, and the average assist ouput is {avgastpmp:.2f} assists per minute.\")"
   ]
  },
  {
   "cell_type": "markdown",
   "id": "c9155817",
   "metadata": {},
   "source": [
    "## Question 2.5:\n",
    "**Calculate and determine which players had the highest defensive contributions.**"
   ]
  },
  {
   "cell_type": "code",
   "execution_count": 9,
   "id": "7e7adc65",
   "metadata": {},
   "outputs": [
    {
     "name": "stdout",
     "output_type": "stream",
     "text": [
      "The player with the highest defensive contibutions was Kareem Abdul-Jabbar with a rating of 0.14.\n",
      "The player with the highest steals contributions was Michael Jordan with 0.08 steals per minute.\n",
      "The player with the highest block contributions was Kareem Abdul-Jabbar with 0.10 blocks per minute.\n",
      "\n",
      "For reference, the average defensive contributions rating is 0.08 the average steals contribution is 0.04 steals per minute, and the average blocks contribution is 0.04 blocks per minute.\n",
      "\n"
     ]
    }
   ],
   "source": [
    "steals_per_minute = ( mvpdf[\"STL\"] / mvpdf[\"MP\"] ) \n",
    "maxstlcon = steals_per_minute.max()\n",
    "\n",
    "blocks_per_minute = ( mvpdf[\"BLK\"] / mvpdf[\"MP\"] )\n",
    "maxblkcon = blocks_per_minute.max()\n",
    "\n",
    "defensive_output = steals_per_minute + blocks_per_minute \n",
    "maxdefcon = defensive_output.max()\n",
    "\n",
    "defensive_index = defensive_output.index[defensive_output == maxdefcon].tolist()\n",
    "for g in defensive_index:\n",
    "    rowG = g \n",
    "player4 = mvpdf.loc[rowG,\"Player\"]\n",
    "\n",
    "steals_index = steals_per_minute.index[steals_per_minute == maxstlcon].tolist()\n",
    "for h in steals_index:\n",
    "    rowH = h\n",
    "player5 = mvpdf.loc[rowH,\"Player\"]\n",
    "\n",
    "blocks_index = blocks_per_minute.index[blocks_per_minute == maxblkcon].tolist()\n",
    "for i in blocks_index:\n",
    "    rowI = i \n",
    "player6 = mvpdf.loc[rowI,\"Player\"]\n",
    "\n",
    "print(f\"The player with the highest defensive contibutions was {player4} with a rating of {maxdefcon:.2f}.\")\n",
    "print(f\"The player with the highest steals contributions was {player5} with {maxstlcon:.2f} steals per minute.\")\n",
    "print(f\"The player with the highest block contributions was {player6} with {maxblkcon:.2f} blocks per minute.\\n\")\n",
    "      \n",
    "total = 0\n",
    "for j in defensive_output:\n",
    "    total += j \n",
    "avgdefcon = total / len(defensive_output)\n",
    "\n",
    "total = 0\n",
    "for k in steals_per_minute:\n",
    "    total += k \n",
    "avgstlcon = total / len(steals_per_minute)\n",
    "\n",
    "total = 0\n",
    "for l in blocks_per_minute:\n",
    "    total += l\n",
    "avgblkcon = total / len(blocks_per_minute)\n",
    "\n",
    "print(f\"For reference, the average defensive contributions rating is {avgdefcon:.2f} the average steals contribution is {avgstlcon:.2f} steals per minute, and the average blocks contribution is {avgblkcon:.2f} blocks per minute.\\n\")"
   ]
  },
  {
   "cell_type": "markdown",
   "id": "1cfaf5e4",
   "metadata": {},
   "source": [
    "So this is a rather unorthodox way to examine offensive output and defensive contributions, I belive the NBA actually tracks similar stats but using different statistics and calculations, however given the limited data I am working with, this will be a substitute. Essentially I just take one column and divide it with another, in this case I am dividng the \"PTS\" column by the \"MP\" column, essentially dividing points per game, by minutes played per game, to determine \"points per minute\" which in this case is a measure of scoring output. And since assists are an aspect of offense (so are rebounds, but the stats represent total rebound as opposed to offensive rebounds so I can't use rebounds) I am doing the same but with the assist column to get \"assists per minute\". I add the \"points per minute\" column with the \"assists per minute\" column to get a measure of total offensive contributions per minute which in this case will amount to being \"offensive output\". And just for fun and out of curiousity I also just wanted to see which player had the highest scoring and assist output, which in this case is just \"points per minute\" and \"assists per minute\" so I included that. When it comes to the defensive output/contributions it's essentially the same idea as offensive output except with \"STL\" and \"BLK\" summed together to find the total defensive contribution, which in this case is steals and blocks (again ignoring rebounds because the dataset does not differentiate between offensive and defensive rebounds). The method used to find the highest number of each stat is the same as the method used to find the youngest and oldest players, I used .max() and .min() on the series, since adding two columns returns a column which is a series. Similarly, to find the corresponding player for the stat I used the same method to find the index and turned the index into a list and used a for-loop to access the value of the index and the used .loc() to find the player name. As for calculating the averages, I used a for-loop and since I can treat the series as a list, I iterated through the series and summed up all the values in the series and divided that total by the length of the series. I elected to add the reference just so that we can compare the highest number with the average so that it is easier to gauge and appreciate the top performers in each category since in most of these stats, the MVPs outperform the average among other MVPs which in my opinion, is an impressive feat. Again, I feel like the outputs describe what the data represents well enough so I won't really analyze it seeing as I have already gone over how I decided to calculate the data."
   ]
  },
  {
   "cell_type": "markdown",
   "id": "33f53aa9",
   "metadata": {},
   "source": [
    "## Question 3:\n",
    "**Who had the best scoring efficiency in terms of highest field goal percentage relative to points?**\n",
    "\n",
    "(Another one because I'm not sure if 2.5 should count since it's the exact same as 2 but with different stats, so here's another!)"
   ]
  },
  {
   "cell_type": "code",
   "execution_count": 10,
   "id": "ce7d84a5",
   "metadata": {},
   "outputs": [
    {
     "name": "stdout",
     "output_type": "stream",
     "text": [
      "The player with the highest scoring efficiency was Michael Jordan with a rating of 18.73.\n",
      "For reference, the average scoring efficiency was 13.90.\n"
     ]
    }
   ],
   "source": [
    "efficiency = mvpdf[\"FG%\"] * mvpdf[\"PTS\"]\n",
    "maxeff = efficiency.max()\n",
    "\n",
    "efficiency_list = efficiency.index[efficiency == maxeff].tolist()\n",
    "for value in efficiency_list:\n",
    "    row = value \n",
    "player_name = mvpdf.loc[row, \"Player\"]\n",
    "\n",
    "print(f\"The player with the highest scoring efficiency was {player_name} with a rating of {maxeff:.2f}.\")\n",
    "\n",
    "totaleff = 0\n",
    "for val in efficiency:\n",
    "    totaleff += val\n",
    "avgeff = totaleff / len(efficiency)\n",
    "print(f\"For reference, the average scoring efficiency was {avgeff:.2f}.\")"
   ]
  },
  {
   "cell_type": "markdown",
   "id": "2256d7aa",
   "metadata": {},
   "source": [
    "So this is another unorthodox way of measuring player efficiency, and I know for a fact that the NBA does have a statistic for this although I'm not sure how it's calculated. For the sake of this assignment, I am just going to take the product of field goal percentages \"FG%\" and points (per game) \"PTS\", and the highest number we'll consider to be the most efficient, since more points with higher field goal should be mroe effiencent. So as I described, I took the \"FG%\" column and multiplied it with the \"PTS\" column and used .max() to find the highest value of the resulting series product. And as is a pattern, I used .index to find the row that contains the \"Player\" and used .tolist() to turn the pandas datatype into a list so that I can access the value of the index thorugh a for-loop and then use the value in the .loc() method to get the corresponding player. Then to calculate the average, similar to before, I have a variable initialized at 0 and then as I iterate through the series, I am summing all values in the series and storing it in the variable \"totaleff\" and then the average is just a calculation of totaleff / len(efficiency). So one way to interpret the output of this section is just how impressive Jordan's scoring proficiency was seeing as he played in his prime in the 90s which is nearly three decades ago and his score is nearly 5 ratings above the average among other MVPs. "
   ]
  },
  {
   "cell_type": "code",
   "execution_count": 11,
   "id": "b852c354",
   "metadata": {},
   "outputs": [
    {
     "data": {
      "text/plain": [
       "<matplotlib.collections.PathCollection at 0x16fdb2fc910>"
      ]
     },
     "execution_count": 11,
     "metadata": {},
     "output_type": "execute_result"
    },
    {
     "data": {
      "image/png": "[encoded data removed]",
      "text/plain": [
       "<Figure size 640x480 with 1 Axes>"
      ]
     },
     "metadata": {},
     "output_type": "display_data"
    }
   ],
   "source": [
    "import matplotlib.pyplot as plt\n",
    "\n",
    "plt.title(\"Player Efficiency\")\n",
    "x = mvpdf[\"MP\"]\n",
    "plt.xlabel(\"Minutes Played Per Game\")\n",
    "y = efficiency\n",
    "plt.ylabel(\"Efficiency Rating\")\n",
    "plt.scatter(x, y, c = 'g', marker = \"*\")"
   ]
  },
  {
   "cell_type": "markdown",
   "id": "46a7da64",
   "metadata": {},
   "source": [
    "Just for fun here's a plot of Efficiency Rating in relation to minutes played per game, higher is more efficient, to the right is more minutes played. I suppose more efficient would be higher to the left since it would mean higher efficiency in less time. "
   ]
  },
  {
   "cell_type": "markdown",
   "id": "1482442d",
   "metadata": {},
   "source": [
    "## Question 4:\n",
    "**Plot and determine what range of points and field goal percentage most MVPs fall under, note any outliers.**"
   ]
  },
  {
   "cell_type": "code",
   "execution_count": 12,
   "id": "9144532a",
   "metadata": {},
   "outputs": [
    {
     "data": {
      "text/plain": [
       "<matplotlib.collections.PathCollection at 0x16fdaf0da90>"
      ]
     },
     "execution_count": 12,
     "metadata": {},
     "output_type": "execute_result"
    },
    {
     "data": {
      "image/png": "[encoded data removed]",
      "text/plain": [
       "<Figure size 640x480 with 1 Axes>"
      ]
     },
     "metadata": {},
     "output_type": "display_data"
    }
   ],
   "source": [
    "import matplotlib.pyplot as plt\n",
    "\n",
    "plt.title(\"Shooting Percentages\")\n",
    "x = mvpdf[\"PTS\"]\n",
    "plt.xlabel(\"Points Per Game\")\n",
    "y = mvpdf[\"FG%\"]\n",
    "plt.ylabel(\"Field Goal Percentage\")\n",
    "plt.scatter(x, y, c = \"m\",  marker = 'd')"
   ]
  },
  {
   "cell_type": "markdown",
   "id": "2e2296b6",
   "metadata": {},
   "source": [
    "From this plot, it can be determined that the majority of MVPs scored over 22.5 points per game with an ourlier at just over 15 points. In comparison most MVPs were shooting around 50%, with at least 75% shooting over 47.5% with an outlier shooting 60%. There are two large clusters, one between 22.5 and 25 points and between 47.5 and 50% shooting and another around 27.5 points and 52.5% shooting. "
   ]
  },
  {
   "cell_type": "markdown",
   "id": "eef4c8e9",
   "metadata": {},
   "source": [
    "# Conclusion:\n",
    "\n",
    "**Final Statements:**\n",
    "\n",
    "Well thank you for taking this journey with me going through NBA MVP data, I hope some of it want interesting, I honestly did enjoy going through each step of this assignment and I did end up learning a lot more than I though, especially with how pandas works and how easy it is to plot data with matplotlib. Just to reiterate, Section: 1 does kind of borrow code in order for me to be able to extract the dataset, however, Section: 2 was entirely my own code with the exception of going to google to figure out how to get the row of a cell in pandas and turn this index into an integer I can use in the .loc() function. But if there are any questions or concerns with my completion of the assignment, please feel free to ask."
   ]
  }
 ],
 "metadata": {
  "kernelspec": {
   "display_name": "Python 3 (ipykernel)",
   "language": "python",
   "name": "python3"
  },
  "language_info": {
   "codemirror_mode": {
    "name": "ipython",
    "version": 3
   },
   "file_extension": ".py",
   "mimetype": "text/x-python",
   "name": "python",
   "nbconvert_exporter": "python",
   "pygments_lexer": "ipython3",
   "version": "3.11.3"
  }
 },
 "nbformat": 4,
 "nbformat_minor": 5
}
